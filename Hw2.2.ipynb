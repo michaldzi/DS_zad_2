{
  "metadata": {
    "kernelspec": {
      "name": "",
      "display_name": ""
    },
    "language_info": {
      "name": ""
    }
  },
  "nbformat_minor": 4,
  "nbformat": 4,
  "cells": [
    {
      "cell_type": "code",
      "source": "import pandas as pd\n\nimport matplotlib.pyplot as plt\n\n# 1.Odczyt pliku CSV\nfile_path = \"C:/Users/micha/Downloads/2017_jun_final - 2017_jun_final.csv\"\ndata = pd.read_csv(file_path)\nprint(data)\n\n# 2.Odczytanie tabeli wynikowej przy użyciu metody head\nprint(data.head())\n\n# 3.Zdefiniowanie rozmiaru tabeli\nprint(\"\\nRozmiar tabeli:\", data.shape)\n\n# 4.Zdefiniowanie typów wszystkich kolumn\nprint(\"\\nTypy kolumn:\\n\", data.dtypes)\n\n# 5.Obliczenie proporcji spacji w każdej kolumnie\nnull_percentage = data.isnull().sum() / len(data) * 100\nprint(\"\\nProporcja pustych wartości w kolumnach:\\n\", null_percentage)\n\n# 6.Usunięcie wszystkich kolumn ze spacjami z wyjątkiem kolumny \"Język programowania\"\ncolumns_to_keep = [\"Programming language\"]\ndata_filtered = data[columns_to_keep]\n\n# 7.Ponowne obliczenie odsetka pustych miejsc w każdej kolumnie\nnull_percentage_filtered = data_filtered.isnull().sum() / len(data_filtered) * 100\nprint(\n    \"\\nProporcja pustych wartości po usunięciu kolumn:\\n\",\n    null_percentage_filtered.round(2),\n)\n\n# 8.Usunięcie wszystkich wierszy z pustymi wartościami\ndata_cleaned = data_filtered.dropna()\n\n# 9.Zdefiniowanie nowego rozmiaru tabeli\nprint(\"\\nNowy rozmiar tabeli:\", data_cleaned.shape)\n\n# 10.Utworzenie nowej tabeli python_data z wierszami, gdzie 'Programming language' to Python\npython_data = data_cleaned[\n    data_cleaned[\"Programming language\"].str.contains(\"Python\", na=False)\n]\n\n# 11.Zdefiniowanie rozmiaru tabeli python_data\nprint(\"\\nRozmiar tabeli python_data:\", python_data.shape)\n\n# 12.Grupowanie według kolumny \"Stanowisko\" (Role) i agregacja wynagrodzenia (Salary/month)\ngrouped_data = (\n    data.groupby(\"Role\")\n    .agg(min_salary=(\"Salary/month\", \"min\"), max_salary=(\"Salary/month\", \"max\"))\n    .reset_index()\n)\n\n\n# 13. Tworzenie funkcji do obliczania średniej pensji\ndef fill_avg_salary(row):\n    min_salary = float(row[\"min_salary\"])\n    max_salary = float(row[\"max_salary\"])\n    return round((min_salary + max_salary) / 3, 0)\n\n\n# 14. Zastosowanie funkcji fill_avg_salary do stworzenia nowej kolumny \"avg\"\ngrouped_data[\"min_salary\"] = grouped_data[\"min_salary\"].astype(float)\ngrouped_data[\"max_salary\"] = grouped_data[\"max_salary\"].astype(float)\ngrouped_data[\"avg\"] = grouped_data.apply(fill_avg_salary, axis=1)\n\n# 15. Statystyki opisowe dla kolumny \"avg\"\nprint(\"\\n\", grouped_data[\"avg\"].describe())\n\n# 16.Zapisanie wynikowej tabeli do pliku CSV\ngrouped_data.to_csv(\"wynikowa_tabela.csv\", index=False)\n\n# 1. Wykres liniowy - Wynagrodzenie a doświadczenie\nplt.figure(figsize=(10, 6))\nplt.plot(data[\"exp\"], data[\"salary\"], marker=\"o\", color=\"b\", linestyle=\"-\", linewidth=2)\nplt.title(\"Wynagrodzenie miesięczne w zależności od doświadczenia\")\nplt.xlabel(\"Doświadczenie (lata)\")\nplt.ylabel(\"Wynagrodzenie miesięczne\")\nplt.grid(True)\nplt.show()\n\n# 2. Wykres punktowy - Doświadczenie ogólne vs. na bieżącym stanowisku\nplt.figure(figsize=(10, 6))\nplt.scatter(\n    data[\"exp\"], data[\"current_job_exp\"], color=\"purple\", edgecolor=\"black\", alpha=0.6\n)\nplt.title(\"Doświadczenie ogólne vs. doświadczenie na bieżącym stanowisku\")\nplt.xlabel(\"Doświadczenie ogólne (lata)\")\nplt.ylabel(\"Doświadczenie na bieżącym stanowisku (lata)\")\nplt.grid(True)\nplt.show()\n\n# 3. Wykres słupkowy - Średnie wynagrodzenie dla różnych ról\navg_salary_per_role = data.groupby(\"Role\")[\"salary\"].mean().sort_values()\nplt.figure(figsize=(10, 6))\navg_salary_per_role.plot(kind=\"barh\", color=\"teal\")\nplt.title(\"Średnie wynagrodzenie miesięczne w zależności od roli\")\nplt.xlabel(\"Średnie miesięczne wynagrodzenie\")\nplt.ylabel(\"Rola\")\nplt.show()\n",
      "metadata": {
        "trusted": true
      },
      "outputs": [],
      "execution_count": null
    }
  ]
}