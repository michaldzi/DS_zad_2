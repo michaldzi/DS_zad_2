{
  "metadata": {
    "kernelspec": {
      "name": "python",
      "display_name": "Python (Pyodide)",
      "language": "python"
    },
    "language_info": {
      "codemirror_mode": {
        "name": "python",
        "version": 3
      },
      "file_extension": ".py",
      "mimetype": "text/x-python",
      "name": "python",
      "nbconvert_exporter": "python",
      "pygments_lexer": "ipython3",
      "version": "3.8"
    }
  },
  "nbformat_minor": 4,
  "nbformat": 4,
  "cells": [
    {
      "cell_type": "code",
      "source": "import pandas as pd\nimport numpy as np\nimport matplotlib.pyplot as plt\n\nfile_path = \"C:/Users/micha/Downloads/fertility_rate.xlsx\"\n\ndf = pd.read_excel(file_path)\n\n\n# print(\"\\n\", df)\n\n# 1\nprint(\"\\nPierwsze wiersze tabeli:\")\nprint(df.head())\n\n# 2\nshape = df.shape\nprint(\"\\nLiczba wierszy i kolumn w zbiorze danych:\", shape)\n\n# 3\ndf.replace(\"_\", np.nan, inplace=True)\nprint(\"\\n\", df)\n\n# 4\ndtypes_before = df.dtypes\nprint(\"\\nDtypes before conversion:\\n\", dtypes_before)\n\n# 5\ndf.iloc[:, 1:] = df.iloc[:, 1:].apply(pd.to_numeric)\ndtypes = df.dtypes\nprint(\"\\nDtypes after conversion:\\n\", dtypes)\n\n# 6\n\nnull_proportion = df.isnull().sum() / len(df)\nprint(\"\\nProportion of null values in each column:\", null_proportion)\n\n# 7\ndf = df.iloc[:-1]\nprint(\"\\nDelete the last row in the table:\\n\", df)\n\n# 8\nmean_values = df.mean(numeric_only=True)\ndf_filled = df.fillna(method=\"ffill\").round(2)\n\nprint(\"\\nPo uzupełnieniu:\")\nprint(df_filled)\ndf.columns = df.columns.astype(str)\nprint(df.columns)\n\n# 9\ndf.columns = df.columns.str.strip()\nmean_2019 = df[\"2019\"].mean()\nregions_above_mean = df[df[\"2019\"] > mean_2019][\"regions\"]\nprint(regions_above_mean)\n\n# 10\nmax_birth_2014_region = df.loc[df[\"2019\"].idxmax(), \"regions\"]\nprint(\"Region with highest birth rate in 2014:\\n\", max_birth_2014_region)\n\n# 11\ndf.plot(x=\"regions\", y=\"2019\", kind=\"bar\", legend=False)\nplt.title(\"Wskaźnik urodzeń według regionów w 2019 r.\")\nplt.ylabel(\"Wskaźnik urodzeń\")\nplt.xticks(rotation=90)\nplt.show()\n\nplt.figure(figsize=(10, 6))\nplt.plot(df[\"regions\"], df[\"2017\"], marker=\"o\", color=\"blue\", label=\"Dane za 2017\")\nplt.title(\"Wskaźnik urodzeń według regionów w 2017 r.\")\nplt.xlabel(\"Regiony\")\nplt.ylabel(\"Dane za 2017 rok\")\nplt.legend()\nplt.xticks(rotation=45)\nplt.grid(True)\nplt.show()\n\nplt.figure(figsize=(10, 6))\nplt.scatter(df[\"regions\"], df[\"2015\"], color=\"green\", marker=\"o\")\nplt.title(\"Wskaźnik urodzeń według regionów w 2015 r.\")\nplt.xlabel(\"Regiony\")\nplt.ylabel(\"Dane za 2015 rok\")\nplt.xticks(rotation=45)\nplt.show()",
      "metadata": {
        "trusted": true
      },
      "outputs": [],
      "execution_count": null
    }
  ]
}